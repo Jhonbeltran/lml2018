{
 "cells": [
  {
   "cell_type": "markdown",
   "metadata": {},
   "source": [
    "## LEARNING MACHINE LEARNING 2018\n",
    "\n",
    "# Lab 2: Intro to Scikit-Learn: Linear and KNN Regression\n",
    "\n",
    "**Universidad del Rosario**<br>\n",
    "**July 23, 2018**<br>\n",
    "**Instructors: Pavlos Protopapas, Rafael Martinez, Juan Fernando Perez, Dora Suarez, Juan Felipe Giraldo, Dora Suarez, Julian Rincon, German Obando**"
   ]
  },
  {
   "cell_type": "markdown",
   "metadata": {},
   "source": [
    "## Introduction to Scikit-learn\n",
    "\n",
    "### Installation\n",
    "Scikit-learn is included with the [Anaconda distribution of Pyhton](https://www.anaconda.com/download/). Current stable version is 0.19.2. \n",
    "\n",
    "You should therefore have it in  your systems. If you want to install it separetely in your own machine, you can find the installation and all other details in their [webpage](http://scikit-learn.org/stable/index.html). \n",
    "\n",
    "Scikit-learn requires:\n",
    "\n",
    "* Python (>= 2.7 or >= 3.3),\n",
    "* NumPy (>= 1.8.2),\n",
    "* SciPy (>= 0.13.3).\n",
    "\n",
    "Installation is easily performed with the `pip` or `conda` commands:\n",
    "\n",
    "`pip install -U scikit-learn`\n",
    "\n",
    "or\n",
    "\n",
    "`conda install scikit-learn`\n",
    "\n",
    "\n",
    "### Basic functionality\n",
    "\n",
    "`Scikit-learn` is the main `python` machine learning library. It consists of many learners which can learn models from data, as well as a lot of utility functions such as `train_test_split`. It can be used in `python` by the incantation `import sklearn`.\n",
    "\n",
    "The library has a very well-defined interface. This makes the library a joy to use, and surely contributes to its popularity.  The API consists of three interfaces:\n",
    "1. estimator interface: builds and fits models\n",
    "   * This interface is at the core of the library\n",
    "   * Provides the `fit()` method\n",
    "   * Unsupervised and supervised learning algorithms can be accessed from the estimator interface\n",
    "2. predictor interface: makes predictions\n",
    "3. transformer interface: converts data\n",
    "\n",
    "You can refer to the original `scikit-learn` API paper for more details: [Buitinck, Lars, et al. \"API design for machine learning software: experiences from the scikit-learn project.\" arXiv preprint arXiv:1309.0238 (2013).](https://arxiv.org/abs/1309.0238)\n",
    "\n",
    "Let's see the structure of `scikit-learn` needed to make these fits. `.fit` always takes two arguments:\n",
    "```python\n",
    "  estimator.fit(Xtrain, ytrain)\n",
    "```\n",
    "We will consider two estimators in this lab: `LinearRegression` and `KNeighborsRegressor`.\n",
    "\n",
    "Critically, `Xtrain` must be in the form of an *array of arrays*, with the inner arrays each corresponding to one sample, and whose elements correspond to the feature values for that sample (visuals coming in a moment).\n",
    "\n",
    "`ytrain` on the other hand is a simple array of responses.  These are continuous for regression problems.\n",
    "\n",
    "![](scikitlearn1.jpg)\n",
    "\n",
    "\n",
    "So it is very easy to use: Suppose you wanted to fit the following dataset with a particular regression estimator, for example the Linear Regression:\n",
    "\n",
    "![](scikitlearn2.png)\n",
    "\n",
    "Above, the predictor $x$ is along the $x$-axis, whereus the dependent variable $y$ is along the $y$-axis. The goal is simple: use the dataset to learn the model and then predict for new, unseen values of $x$. With the structure outlined above, this is very easy to code in sklearn:\n",
    "\n",
    "![](scikitlearn3.png)"
   ]
  },
  {
   "cell_type": "markdown",
   "metadata": {},
   "source": [
    "### Playing with sklearn\n",
    "\n",
    "### Table of Contents \n",
    "\n",
    "<ol>\n",
    "<li> Linear regression with a toy  </li>\n",
    "- matrices and math <br>\n",
    "- building a model from scratch<br>\n",
    "- building a model with statsmodel and sklearn\n",
    "<li> Simple linear regression with automobile data </li>\n",
    "<li> Multiple linear regression with automobile data </li>\n",
    "<li> Interpreting results</li>\n",
    "</ol>"
   ]
  },
  {
   "cell_type": "markdown",
   "metadata": {},
   "source": [
    "### Part 1: Linear regression with a toy \n",
    "We first examine a toy problem, focusing our efforts on fitting a linear model to a small dataset with three observations.  Each observation consists of one predictor $x_i$ and one response $y_i$ for $i = 1, 2, 3$,\n",
    "\n",
    "\\begin{equation*}\n",
    "(x , y) = \\{(x_1, y_1), (x_2, y_2), (x_3, y_3)\\}.\n",
    "\\end{equation*}\n",
    "\n",
    "To be very concrete, let's set the values of the predictors and responses.\n",
    "\n",
    "\\begin{equation*}\n",
    "(x , y) = \\{(1, 2), (2, 2), (3, 4)\\}\n",
    "\\end{equation*}\n",
    "\n",
    "There is no line of the form $\\beta_0 + \\beta_1 x = y$ that passes through all three observations, since the data is not collinear.  Thus our aim is to find the line that best fits these observations in the *least-squares sense*, as discussed in lecture.\n",
    "\n",
    "### Matrices and math \n",
    "\n",
    "Suspending reality, suppose there is a line $\\beta_0 + \\beta_1 x = y$ that passes through all three observations.  Then we'd solve\n",
    "\n",
    "\\begin{eqnarray}\n",
    "\\beta_0 + \\beta_1 &=& 2 \\nonumber \\\\\n",
    "\\beta_0 + 2 \\beta_1 &=& 2 \\nonumber \\\\\n",
    "\\beta_0 + 3 \\beta_1 &=& 4, \\nonumber \\\\\n",
    "\\end{eqnarray}\n",
    "\n",
    "\n",
    "for  $\\beta_0$ and  $\\beta_1$, the intercept and slope of the desired line.  Let's write these equations in matrix form.  The left hand sides of the above equations can be written as\n",
    "\n",
    "![](LHS.jpg)\n",
    "\n",
    "\n",
    "while the right hand side is simply the vector\n",
    "\n",
    "\\begin{equation*}Y = \\begin{bmatrix}\n",
    "2 \\\\\n",
    "2 \\\\\n",
    "4 \n",
    "\\end{bmatrix}. \\end{equation*}\n",
    "\n",
    "Thus we have the matrix equation $X \\beta = Y$ where\n",
    "\n",
    "\\begin{equation}\n",
    "X = \\begin{bmatrix}\n",
    "1 & 1\\\\\n",
    "1 & 2\\\\\n",
    "1 & 3\n",
    "\\end{bmatrix}, \\quad\n",
    "\\beta = \\begin{pmatrix}\n",
    "\\beta_0 \\\\\n",
    "\\beta_1 \n",
    "\\end{pmatrix}, \\quad \\mathrm{and} \n",
    "\\quad Y = \\begin{bmatrix}\n",
    "2 \\\\\n",
    "2 \\\\\n",
    "4 \n",
    "\\end{bmatrix}.\n",
    "\\end{equation}\n",
    "\n",
    "To find the best possible solution to this linear system that has no solution, we need to solve the *normal equations*, or\n",
    "\n",
    "\\begin{equation}\n",
    "X^T X \\beta = X^T Y.\n",
    "\\end{equation}\n",
    "\n",
    "If $X^T X$ is invertible then the solution is\n",
    "\n",
    "\\begin{equation}\n",
    "\\beta = (X^T X)^{-1} X^T Y.\n",
    "\\end{equation}\n",
    "\n",
    "The above solution comes from minimizing the least-square error for this system of equation that does not have an exact solution. We can expand this solution to show that in fact, the values $\\hat{\\beta}$ that best approximate the (non-existent) solution of the system above is are given by this lat equation ([Here](http://mlwiki.org/index.php/Normal_Equation) is a link to understand this, for thos fond of linear algebra)."
   ]
  },
  {
   "cell_type": "markdown",
   "metadata": {},
   "source": [
    "> **EXERCISE:** What if the toy problem included a second predictor variable?  How would $X, \\beta$, and $Y$ change, if at all?  Would anything else change?  Create a new markdown cell below and explain."
   ]
  },
  {
   "cell_type": "markdown",
   "metadata": {},
   "source": [
    "The $X$ matrix and vector $\\beta$ change.  In this case adding a second predictor variable would result in adding a third column to the $X$ matrix, so that the matrix is $3 \\times 3$.  A third variable would be added to the $\\beta$ vector.  Note that we need to be consistent in appending rows and columns to the matrix $X$ and the vector $\\beta$.  For example, if the new predictor column is \n",
    "\n",
    "\\begin{equation}\n",
    "\\begin{bmatrix}\n",
    "v_1 \\\\\n",
    "v_2 \\\\\n",
    "v_3\n",
    "\\end{bmatrix}, \n",
    "\\end{equation}\n",
    "\n",
    "and we include it in the $X$ matrix as\n",
    "\n",
    "\\begin{equation}\n",
    "X = \\begin{bmatrix}\n",
    "1 & 1 & v_1\\\\\n",
    "1 & 2 & v_2\\\\\n",
    "1 & 3 & v_3\n",
    "\\end{bmatrix},\n",
    "\\end{equation}\n",
    "then the corresponding $\\beta$ vector is\n",
    "\n",
    "\\begin{equation}\n",
    "\\beta = \\begin{pmatrix}\n",
    "\\beta_0 \\\\\n",
    "\\beta_1 \\\\\n",
    "\\beta_2\n",
    "\\end{pmatrix}.\n",
    "\\end{equation}\n",
    "\n",
    "\n",
    "Thus the linear system in matrix form is still $X \\beta = Y$, \n",
    "\n",
    "\\begin{equation}\n",
    "\\begin{bmatrix}\n",
    "1 & 1 & v_1\\\\\n",
    "1 & 2 & v_2\\\\\n",
    "1 & 3 & v_3\n",
    "\\end{bmatrix} \\begin{pmatrix}\n",
    "\\beta_0 \\\\\n",
    "\\beta_1 \\\\\n",
    "\\beta_2\n",
    "\\end{pmatrix} = \\begin{bmatrix}\n",
    "2 \\\\\n",
    "2 \\\\\n",
    "4 \n",
    "\\end{bmatrix}, \n",
    "\\end{equation}\n",
    "\n",
    "which can be expanded as (via matrix multiplication as discussed during lab)\n",
    "\n",
    "\n",
    "\\begin{eqnarray}\n",
    "\\beta_0 + \\beta_1 + v_1 \\beta_2&=& 2 \\nonumber \\\\\n",
    "\\beta_0 + 2 \\beta_1 + v_2 \\beta_2 &=& 2 \\nonumber \\\\\n",
    "\\beta_0 + 3 \\beta_1 + v_3 \\beta_2&=& 4. \\nonumber \\\\\n",
    "\\end{eqnarray}\n",
    "\n",
    "Everything else remains the same.  \n",
    "\n",
    "The question came up about whether the addition of a third column changes the invertibility of $X^T X$.  The answer is that it depends on the particular values of $v_1, v_2$, and $v_3$.  For example, if $v_1 = v_2 = v_3 = 1$, then  $X^T X$ is not invertible.  If $v_1 = v_2 = 1$ and $v_3 = 4$, then $X^T X$ is invertible.  You check this directly via the code below.  In the code we've used the determinant of $X^T X$ to check for invertibility.  That is, $X^T X$ is invertible if and only if $\\det(X^T X) \\ne 0$.  \n",
    "\n",
    "*(You can be fancier about this if you like by using the properties of determinants, in the case when $X$ is a square matrix. $\\det X^T X = \\det X^T \\det X = \\det X \\det X = (\\det X)^2$, and since $\\det X = 0$ in the first example, $\\det X^T X = 0$ and hence is not invertible.  For the first example with $v_1 = v_2 = v_3 = 1$ we can see by inspection that $X$ is not invertible since the third column of $X$ is a constant multiple of the first column, ie, the  columns of $X$ do not form a linearly independent set.)*"
   ]
  },
  {
   "cell_type": "code",
   "execution_count": 1,
   "metadata": {},
   "outputs": [
    {
     "name": "stdout",
     "output_type": "stream",
     "text": [
      "[[1 1 1]\n",
      " [1 2 1]\n",
      " [1 3 1]]\n",
      "0.0\n"
     ]
    }
   ],
   "source": [
    "import numpy as np\n",
    "X1 = np.array([[1, 1, 1], [1, 2, 1], [1, 3, 1]])\n",
    "print(X1)\n",
    "print(np.linalg.det(np.dot(np.transpose(X1), X1)))"
   ]
  },
  {
   "cell_type": "code",
   "execution_count": 2,
   "metadata": {},
   "outputs": [
    {
     "name": "stdout",
     "output_type": "stream",
     "text": [
      "[[1 1 1]\n",
      " [1 2 1]\n",
      " [1 3 4]]\n",
      "8.999999999999998\n"
     ]
    }
   ],
   "source": [
    "X2 = np.array([[1, 1, 1], [1, 2, 1], [1, 3, 4]])\n",
    "print(X2)\n",
    "print(np.linalg.det(np.dot(np.transpose(X2), X2)))"
   ]
  },
  {
   "cell_type": "markdown",
   "metadata": {},
   "source": [
    "### Building a model from scratch\n",
    "\n",
    "We now solve the normal equations to find the best fit solution to our toy problem.   Note that we have constructed our toy problem so that $X^T X$ is invertible.  Let's import the needed modules.  Note that we've imported statsmodels and sklearn in this below, which we'll use to build regression models."
   ]
  },
  {
   "cell_type": "code",
   "execution_count": 3,
   "metadata": {},
   "outputs": [],
   "source": [
    "import numpy as np\n",
    "import pandas as pd\n",
    "import seaborn as sns\n",
    "from sklearn import linear_model, datasets\n",
    "import matplotlib.pyplot as plt\n",
    "import statsmodels.api as sm\n",
    "%matplotlib inline"
   ]
  },
  {
   "cell_type": "markdown",
   "metadata": {},
   "source": [
    "The snippets of code below solves the equations using the observed predictors and responses, which we'll call the training data set.  Let's walk through the code."
   ]
  },
  {
   "cell_type": "code",
   "execution_count": 4,
   "metadata": {},
   "outputs": [
    {
     "name": "stdout",
     "output_type": "stream",
     "text": [
      "(3,)\n",
      "[1 2 3]\n"
     ]
    }
   ],
   "source": [
    "#observed predictors\n",
    "x_train = np.array([1, 2, 3])\n",
    "# or do this, which creates 3 x 1 vector so no need to reshape\n",
    "#x_train = np.array([[1], [2], [3]])   \n",
    "print(x_train.shape)\n",
    "print(x_train)"
   ]
  },
  {
   "cell_type": "code",
   "execution_count": 5,
   "metadata": {},
   "outputs": [
    {
     "name": "stdout",
     "output_type": "stream",
     "text": [
      "(3, 1)\n",
      "[[1]\n",
      " [2]\n",
      " [3]]\n"
     ]
    }
   ],
   "source": [
    "x_train = x_train.reshape(len(x_train),1)\n",
    "#check dimensions \n",
    "print(x_train.shape)\n",
    "print(x_train)"
   ]
  },
  {
   "cell_type": "code",
   "execution_count": 6,
   "metadata": {},
   "outputs": [
    {
     "name": "stdout",
     "output_type": "stream",
     "text": [
      "(3, 1)\n",
      "[[2]\n",
      " [2]\n",
      " [4]]\n"
     ]
    }
   ],
   "source": [
    "#observed responses\n",
    "y_train = np.array([2, 2, 4])\n",
    "# or do this, which creates 3 x 1 vector so no need to reshape\n",
    "#y_train = np.array([[2], [2], [4]])\n",
    "y_train = y_train.reshape(len(y_train),1)\n",
    "print(y_train.shape)\n",
    "print(y_train)"
   ]
  },
  {
   "cell_type": "code",
   "execution_count": 7,
   "metadata": {},
   "outputs": [
    {
     "name": "stdout",
     "output_type": "stream",
     "text": [
      "[[1. 1.]\n",
      " [1. 2.]\n",
      " [1. 3.]] (3, 2)\n"
     ]
    }
   ],
   "source": [
    "#build matrix X by concatenating predictors and a column of ones\n",
    "n = x_train.shape[0]\n",
    "ones_col = np.ones((n, 1))\n",
    "X = np.concatenate((ones_col, x_train), axis=1)\n",
    "#check X and dimensions\n",
    "print(X, X.shape)"
   ]
  },
  {
   "cell_type": "code",
   "execution_count": 8,
   "metadata": {},
   "outputs": [
    {
     "name": "stdout",
     "output_type": "stream",
     "text": [
      "[[ 3.  6.]\n",
      " [ 6. 14.]]\n",
      "[[ 8.]\n",
      " [18.]]\n"
     ]
    }
   ],
   "source": [
    "#matrix X^T X\n",
    "LHS = np.dot(np.transpose(X), X)\n",
    "print(LHS)\n",
    "\n",
    "#matrix X^T Y\n",
    "RHS = np.dot(np.transpose(X), y_train)\n",
    "print(RHS)"
   ]
  },
  {
   "cell_type": "code",
   "execution_count": 9,
   "metadata": {},
   "outputs": [
    {
     "name": "stdout",
     "output_type": "stream",
     "text": [
      "[[0.66666667]\n",
      " [1.        ]]\n"
     ]
    }
   ],
   "source": [
    "#solution beta to normal equations, since LHS is invertible by toy construction\n",
    "betas = np.dot(np.linalg.inv(LHS), RHS)\n",
    "print(betas)"
   ]
  },
  {
   "cell_type": "code",
   "execution_count": 10,
   "metadata": {},
   "outputs": [
    {
     "name": "stdout",
     "output_type": "stream",
     "text": [
      "[0.66666667] [1.]\n"
     ]
    }
   ],
   "source": [
    "#intercept beta0\n",
    "beta0 = betas[0]\n",
    "\n",
    "#slope beta1\n",
    "beta1 = betas[1]\n",
    "\n",
    "print(beta0, beta1)"
   ]
  },
  {
   "cell_type": "markdown",
   "metadata": {},
   "source": [
    "> **EXERCISE:** Turn the code from the above cells into a function, called `simple_linear_regression_fit`, that inputs the training data and returns `beta0` and `beta1`.\n",
    "\n",
    "> To do this, copy and paste the code from the above cells below and adjust the code as needed, so that the training data becomes the input and the betas become the output.\n",
    "\n",
    "> Check your function by calling it with the training data from above and printing out the beta values.\n",
    "\n",
    "> Then plot the trainig points with the fitted model"
   ]
  },
  {
   "cell_type": "code",
   "execution_count": 14,
   "metadata": {},
   "outputs": [
    {
     "name": "stdout",
     "output_type": "stream",
     "text": [
      "[[1]\n",
      " [2]\n",
      " [3]]\n",
      "[[2]\n",
      " [2]\n",
      " [4]]\n",
      "3\n",
      "\n",
      "\n",
      "[[1.]\n",
      " [1.]\n",
      " [1.]]\n",
      "\n",
      "\n",
      "[[1. 1.]\n",
      " [1. 2.]\n",
      " [1. 3.]]\n",
      "\n",
      "\n",
      "[[ 3.  6.]\n",
      " [ 6. 14.]]\n",
      "\n",
      "\n",
      "[[ 8.]\n",
      " [18.]]\n",
      "\n",
      "\n",
      "[[0.66666667]\n",
      " [1.        ]]\n",
      "\n",
      "\n",
      "[[1]\n",
      " [2]\n",
      " [3]]\n",
      "[[2]\n",
      " [2]\n",
      " [4]]\n",
      "3\n",
      "\n",
      "\n",
      "[[1.]\n",
      " [1.]\n",
      " [1.]]\n",
      "\n",
      "\n",
      "[[1. 1.]\n",
      " [1. 2.]\n",
      " [1. 3.]]\n",
      "\n",
      "\n",
      "[[ 3.  6.]\n",
      " [ 6. 14.]]\n",
      "\n",
      "\n",
      "[[ 8.]\n",
      " [18.]]\n",
      "\n",
      "\n",
      "[[0.66666667]\n",
      " [1.        ]]\n",
      "\n",
      "\n",
      "(beta0, beta1) = (0.666667, 1.000000)\n"
     ]
    }
   ],
   "source": [
    "#your code here\n",
    "def simple_linear_regression_fit(x_train, y_train):\n",
    "    \n",
    "    #reshape inputs \n",
    "    x_train = x_train.reshape(len(x_train),1)\n",
    "    print(x_train)\n",
    "    print(\"\\n\")\n",
    "    y_train = y_train.reshape(len(y_train),1)\n",
    "    print(y_train)\n",
    "    print(\"\\n\")\n",
    "\n",
    "    #build matrix X by concatenating predictors and a column of ones\n",
    "    n = x_train.shape[0]\n",
    "    print(n)\n",
    "    print(\"\\n\")\n",
    "    ones_col = np.ones((n, 1))\n",
    "    print(ones_col)\n",
    "    print(\"\\n\")\n",
    "    X = np.concatenate((ones_col, x_train), axis=1)\n",
    "    print(X)\n",
    "    print(\"\\n\")\n",
    "\n",
    "    #matrix X^T X\n",
    "    LHS = np.dot(np.transpose(X), X)\n",
    "    print(LHS)\n",
    "    print(\"\\n\")\n",
    "\n",
    "    #matrix X^T Y\n",
    "    RHS = np.dot(np.transpose(X), y_train)\n",
    "    print(RHS)\n",
    "    print(\"\\n\")\n",
    "\n",
    "    #solution beta to normal equations, since LHS is invertible by toy construction\n",
    "    betas = np.dot(np.linalg.inv(LHS), RHS)\n",
    "    print(betas)\n",
    "    print(\"\\n\")\n",
    "    \n",
    "    return betas\n",
    "\n",
    "beta0 = simple_linear_regression_fit(x_train, y_train)[0]\n",
    "beta1 = simple_linear_regression_fit(x_train, y_train)[1]\n",
    "\n",
    "print(\"(beta0, beta1) = (%f, %f)\" %(beta0, beta1))"
   ]
  },
  {
   "cell_type": "code",
   "execution_count": null,
   "metadata": {},
   "outputs": [],
   "source": [
    "#your code here\n",
    "#beta 1 > 0 which is reasonable given the data.  the best fit line should have a positive slope.\n",
    "f = lambda x : beta0 + beta1*x\n",
    "xfit = np.arange(0,4,.01)#.reshape(len(np.arange(0,4,.01)),1)\n",
    "yfit = f(xfit)\n",
    "#note that you don't have to reshape xfit as above and the plotting will still work!\n",
    "\n",
    "plt.plot(x_train, y_train, 'ko', xfit, yfit)\n",
    "plt.xlabel('x')\n",
    "plt.ylabel('y')"
   ]
  },
  {
   "cell_type": "markdown",
   "metadata": {},
   "source": [
    "### Building a model with statsmodel and sklearn\n",
    "\n",
    "Now that we can concretely fit the training data from scratch, let's learn two Python packages to do it all for us: [statsmodels](http://www.statsmodels.org/stable/regression.html) and [scikit-learn (sklearn)](http://scikit-learn.org/stable/modules/generated/sklearn.linear_model.LinearRegression.html).  Our goal  is to show how to implement simple linear regression with these packages.  For an important sanity check, we compare the $\\beta$ values from statsmodel and sklearn to the $\\beta$ values that we found from above from scratch.\n",
    "\n",
    "For the purposes of this lab, statsmodels and sklearn do the same thing.  More generally though, statsmodels tends to be easier for inference, whereas sklearn has machine-learning algorithms and is better for prediction.  "
   ]
  },
  {
   "cell_type": "markdown",
   "metadata": {},
   "source": [
    "Below is the code for statsmodels.  Statsmodels does not by default include the column of ones in the $X$ matrix, so we include it with `sm.add_constant`."
   ]
  },
  {
   "cell_type": "code",
   "execution_count": null,
   "metadata": {},
   "outputs": [],
   "source": [
    "#create the X matrix by appending a column of ones to x_train\n",
    "X = sm.add_constant(x_train)\n",
    "#this is the same matrix as in our scratch problem!\n",
    "print(X)\n",
    "#build the OLS model (ordinary least squares) from the training data\n",
    "toyregr_sm = sm.OLS(y_train, X)\n",
    "#save regression info (parameters, etc) in results_sm\n",
    "results_sm = toyregr_sm.fit()\n",
    "#pull the beta parameters out from results_sm\n",
    "beta0_sm = results_sm.params[0]\n",
    "beta1_sm = results_sm.params[1]\n",
    "\n",
    "print(\"(beta0, beta1) = (%f, %f)\" %(beta0_sm, beta1_sm))"
   ]
  },
  {
   "cell_type": "markdown",
   "metadata": {},
   "source": [
    "Besides the beta parameters, `results_sm` contains a ton of other potentially useful information.  Type `results_sm` and hit tab to see."
   ]
  },
  {
   "cell_type": "markdown",
   "metadata": {},
   "source": [
    "Below is the code for sklearn."
   ]
  },
  {
   "cell_type": "code",
   "execution_count": null,
   "metadata": {},
   "outputs": [],
   "source": [
    "#build the least squares model\n",
    "toyregr_skl = linear_model.LinearRegression()\n",
    "#save regression info (parameters, etc) in results_skl\n",
    "results_skl = toyregr_skl.fit(x_train,y_train)\n",
    "#pull the beta parameters out from results_skl\n",
    "beta0_skl = results_skl.intercept_\n",
    "beta1_skl = results_skl.coef_[0]\n",
    "\n",
    "print(\"(beta0, beta1) = (%f, %f)\" %(beta0_skl, beta1_skl))"
   ]
  },
  {
   "cell_type": "markdown",
   "metadata": {},
   "source": [
    "We should feel pretty good about ourselves now, and we're ready to move on to a real problem. \n",
    "\n",
    "### Polynomial regression (inspired by J. Vanderplas blog)\n",
    "\n",
    "But before, let us briefly consider polynomial regression, which is a special case of linear regression. This should be good to realize that \"linear\" does not always mean straight lines. As long as you are linear on the predictors (even if they have a polynomial nature), the model is still linear.\n",
    "\n",
    "Polynomial regression is a special case of linear regression. With the main idea of how do you select your features. Looking at the multivariate regression with 2 variables: $x_1$ and $x_2$. Linear regression will look like this: $y = a_1x_1 + a_2x_2$.\n",
    "\n",
    "Now you want to have a polynomial regression (let's make 2 degree polynomial). We will create a few additional features: $x_1x_2$, $x_1^2$ and $x_2^2$. Our linear regression now looks like this: $y = a_1x_1 + a_2x_2 + a_3x_1x_2 + a_4x_1^2 + a_5x_2^2$\n",
    "\n",
    "This polynomial regression is easily implemente on sklearn."
   ]
  },
  {
   "cell_type": "code",
   "execution_count": null,
   "metadata": {},
   "outputs": [],
   "source": [
    "x = np.array([1, 2, 3, 4, 5])\n",
    "y = np.array([4, 2, 1, 3, 7])\n",
    "plt.xlabel('x')\n",
    "plt.ylabel('y')\n",
    "plt.scatter(x, y);"
   ]
  },
  {
   "cell_type": "markdown",
   "metadata": {},
   "source": [
    "We can be stubborn and fit a line to the data using LinearRegression and get the optimal result:"
   ]
  },
  {
   "cell_type": "code",
   "execution_count": null,
   "metadata": {},
   "outputs": [],
   "source": [
    "from sklearn.linear_model import LinearRegression\n",
    "X = x[:, np.newaxis]\n",
    "model = LinearRegression().fit(X, y)\n",
    "yfit = model.predict(X)\n",
    "plt.scatter(x, y)\n",
    "plt.plot(x, yfit);"
   ]
  },
  {
   "cell_type": "markdown",
   "metadata": {},
   "source": [
    "It's clear that we need a more sophisticated model to describe the relationship between $x$ and y.\n",
    "\n",
    "One approach to this is to transform the data, adding extra columns of features to drive more flexibility in the model. For example, we can add polynomial features to the data this way:"
   ]
  },
  {
   "cell_type": "code",
   "execution_count": null,
   "metadata": {},
   "outputs": [],
   "source": [
    "from sklearn.preprocessing import PolynomialFeatures\n",
    "poly = PolynomialFeatures(degree=3, interaction_only=True, include_bias=False)\n",
    "X2 = poly.fit_transform(X)\n",
    "print(X2)"
   ]
  },
  {
   "cell_type": "markdown",
   "metadata": {},
   "source": [
    "The derived feature matrix has one column representing $x$, and a second column representing $x^2$, and a third column representing $x^3$. Computing a linear regression on this expanded input gives a much closer fit to our data:"
   ]
  },
  {
   "cell_type": "code",
   "execution_count": null,
   "metadata": {},
   "outputs": [],
   "source": [
    "model = LinearRegression().fit(X2, y)\n",
    "yfit = model.predict(X2)\n",
    "plt.scatter(x, y)\n",
    "plt.plot(x, yfit);"
   ]
  },
  {
   "cell_type": "markdown",
   "metadata": {},
   "source": [
    "This idea of improving a model not by changing the model, but by transforming the inputs, is fundamental to many of the more powerful machine learning methods."
   ]
  },
  {
   "cell_type": "markdown",
   "metadata": {},
   "source": [
    "### Part 2: Simple linear regression with automobile data\n",
    "We will now use sklearn to predict automobile milesage per gallon (mpg) and evaluate these predictions. We first load the data and split them into a training set and a testing set."
   ]
  },
  {
   "cell_type": "code",
   "execution_count": null,
   "metadata": {},
   "outputs": [],
   "source": [
    "#load mtcars\n",
    "dfcars=pd.read_csv(\"/Users/jmartine/teaching/LML2018/LML_Colombia/Labs/Resources/data/mtcars.csv\")\n",
    "dfcars=dfcars.rename(columns={\"Unnamed: 0\":\"name\"})\n",
    "dfcars"
   ]
  },
  {
   "cell_type": "code",
   "execution_count": null,
   "metadata": {},
   "outputs": [],
   "source": [
    "#split into training set and testing set\n",
    "from sklearn.model_selection import train_test_split\n",
    "#set random_state to get the same split every time\n",
    "traindf, testdf = train_test_split(dfcars, test_size=0.2, random_state=42)"
   ]
  },
  {
   "cell_type": "code",
   "execution_count": null,
   "metadata": {},
   "outputs": [],
   "source": [
    "#testing set is ~20% of the total data; training set is ~80%\n",
    "dfcars.shape, traindf.shape, testdf.shape"
   ]
  },
  {
   "cell_type": "markdown",
   "metadata": {},
   "source": [
    "We need to choose the variables that we think will be good predictors for the dependent variable `mpg`. \n",
    "\n",
    ">**EXERCISE:**  Pick one variable to use as a predictor for simple linear regression.  Create a markdown cell below and discuss your reasons.  You may want to justify this with some visualizations.  Is there a second variable you'd like to use as well, say for multiple linear regression with two predictors?"
   ]
  },
  {
   "cell_type": "markdown",
   "metadata": {},
   "source": [
    "`hp` and `wt` intuitively seem like reasonable predictors.  For example, heavier cars are likely less fuel efficient.  "
   ]
  },
  {
   "cell_type": "markdown",
   "metadata": {},
   "source": [
    "> **EXERCISE:** With either sklearn or statsmodels, fit the training data using simple linear regression.  Use the model to make mpg predictions on testing set.  \n",
    "\n",
    "> Plot the data and the prediction.  \n",
    "\n",
    ">Print out the mean squared error for the training set and the testing set and compare."
   ]
  },
  {
   "cell_type": "code",
   "execution_count": null,
   "metadata": {},
   "outputs": [],
   "source": [
    "#your code here\n",
    "#define  predictor and response for training set\n",
    "y_train = traindf.mpg\n",
    "x_train = traindf[['wt']]\n",
    "\n",
    "# define predictor and response for testing set\n",
    "y_test = testdf.mpg\n",
    "x_test = testdf[['wt']]"
   ]
  },
  {
   "cell_type": "code",
   "execution_count": null,
   "metadata": {},
   "outputs": [],
   "source": [
    "print(x_test)"
   ]
  },
  {
   "cell_type": "code",
   "execution_count": null,
   "metadata": {},
   "outputs": [],
   "source": [
    "plt.scatter(dfcars['wt'],dfcars['mpg'], alpha=0.2,color='b',label='test set')\n",
    "plt.scatter(traindf['wt'],traindf['mpg'],color='b',label='training set')\n",
    "plt.xlabel('wt')\n",
    "plt.ylabel('mpg')\n",
    "plt.legend()"
   ]
  },
  {
   "cell_type": "code",
   "execution_count": null,
   "metadata": {},
   "outputs": [],
   "source": [
    "#your code here\n",
    "# create linear regression object with sklearn\n",
    "regr = linear_model.LinearRegression()\n",
    "\n",
    "#your code here\n",
    "# train the model and make predictions\n",
    "regr.fit(x_train, y_train)\n",
    "\n",
    "y_pred = regr.predict(x_test)\n",
    "#your code here\n",
    "#print out coefficients\n",
    "print('Coefficients: \\n', regr.coef_[0], regr.intercept_)"
   ]
  },
  {
   "cell_type": "code",
   "execution_count": null,
   "metadata": {},
   "outputs": [],
   "source": [
    "# Plot outputs for test set\n",
    "\n",
    "x0 = np.linspace(2.0,5.5,100)\n",
    "y0 = regr.coef_[0]*x0 + regr.intercept_\n",
    "\n",
    "#print(x_test.values)\n",
    "\n",
    "plt.scatter(x_test.values, y_test.values, color=\"black\")\n",
    "plt.scatter(x_test.values, y_pred, color=\"blue\")\n",
    "plt.plot(x0,y0)\n",
    "#plt.scatter(x_test, y_test, color=\"black\")\n",
    "#plt.scatter(x_train,regr.predict(x_train), color=\"red\")\n",
    "\n",
    "plt.xlabel('wt')\n",
    "plt.ylabel('mpg')"
   ]
  },
  {
   "cell_type": "code",
   "execution_count": null,
   "metadata": {},
   "outputs": [],
   "source": [
    "# Plot outputs for training set\n",
    "\n",
    "x0 = np.linspace(1.5,5.5,100)\n",
    "y0 = regr.coef_[0]*x0 + regr.intercept_\n",
    "plt.plot(x0,y0)\n",
    "\n",
    "plt.scatter(x_train.values, y_train, color=\"black\")\n",
    "plt.scatter(x_train.values, regr.predict(x_train), color=\"blue\")\n",
    "#plt.scatter(x_train,regr.predict(x_train), color=\"red\")\n",
    "\n",
    "plt.xlabel('wt')\n",
    "plt.ylabel('mpg')\n",
    "\n",
    "#print(x_train.values)"
   ]
  },
  {
   "cell_type": "markdown",
   "metadata": {},
   "source": [
    "We can now estimate the mean square errors for the training and test set to see how well we fit the data with our model in each case."
   ]
  },
  {
   "cell_type": "code",
   "execution_count": null,
   "metadata": {},
   "outputs": [],
   "source": [
    "train_MSE2= np.mean((y_train - regr.predict(x_train))**2)\n",
    "test_MSE2= np.mean((y_test - regr.predict(x_test))**2)\n",
    "print(\"The training MSE is %2f, the testing MSE is %2f\" %(train_MSE2, test_MSE2))\n",
    "\n",
    "# or with sklearn.metrics\n",
    "from sklearn.metrics import mean_squared_error\n",
    "print(mean_squared_error(y_train, regr.predict(x_train)))\n",
    "print(mean_squared_error(y_test, regr.predict(x_test)))"
   ]
  },
  {
   "cell_type": "markdown",
   "metadata": {},
   "source": [
    "We see that the training MSE is lower than the testing MSE.  This makes sense since we expect the model to be a better fit for the training data (since we trained with it!) than the testing data set."
   ]
  },
  {
   "cell_type": "markdown",
   "metadata": {},
   "source": [
    "### Part 3: Multiple linear regression with automobile data"
   ]
  },
  {
   "cell_type": "markdown",
   "metadata": {},
   "source": [
    "> **EXERCISE:** With either sklearn or statsmodels, fit the training data using multiple linear regression with two predictors.  Use the model to make mpg predictions on testing set.  Print out the mean squared error for the training set and the testing set and compare.  \n",
    "\n",
    ">How do these training and testing mean squared errors compare to those from the simple linear regression?\n",
    "\n",
    ">Time permitting, repeat the training and testing with three predictors and calculate the mean squared errors.  How do these compare to the errors from the one and two predictor models?"
   ]
  },
  {
   "cell_type": "code",
   "execution_count": null,
   "metadata": {},
   "outputs": [],
   "source": [
    "#your code here\n",
    "x_train2 = traindf[['wt', 'hp']]\n",
    "x_test2 = testdf[['wt', 'hp']]\n",
    "\n",
    "#create linear regression object with sklearn\n",
    "regr2 = linear_model.LinearRegression()\n",
    "\n",
    "#train the model \n",
    "regr2.fit(x_train2, y_train)\n",
    "\n",
    "#make predictions using the testing set\n",
    "y_pred2 = regr2.predict(x_test2)\n",
    "\n",
    "#coefficients\n",
    "print('Coefficients: \\n', regr.coef_[0], regr.intercept_)\n",
    "\n",
    "train_MSE2= np.mean((y_train - regr2.predict(x_train2))**2)\n",
    "test_MSE2= np.mean((y_test - regr2.predict(x_test2))**2)\n",
    "print(\"The training MSE is %2f, the testing MSE is %2f\" %(train_MSE2, test_MSE2))\n",
    "\n",
    "print(mean_squared_error(y_train, regr2.predict(x_train2)))\n",
    "print(mean_squared_error(y_test, regr2.predict(x_test2)))"
   ]
  },
  {
   "cell_type": "code",
   "execution_count": null,
   "metadata": {},
   "outputs": [],
   "source": [
    "# Now with three predictors\n",
    "\n",
    "x_train3 = traindf[['wt', 'hp', 'disp']]\n",
    "x_test3 = testdf[['wt', 'hp', 'disp']]\n",
    "\n",
    "from sklearn.preprocessing import PolynomialFeatures\n",
    "\n",
    "#create linear regression object with sklearn\n",
    "regr3 = linear_model.LinearRegression()\n",
    "\n",
    "#train the model \n",
    "regr3.fit(x_train3, y_train)\n",
    "\n",
    "#make predictions using the testing set\n",
    "y_pred3 = regr3.predict(x_test3)\n",
    "\n",
    "#coefficients\n",
    "print('Coefficients: \\n', regr3.coef_, regr3.intercept_)\n",
    "\n",
    "train_MSE2= np.mean((y_train - regr3.predict(x_train3))**2)\n",
    "test_MSE2= np.mean((y_test - regr3.predict(x_test3))**2)\n",
    "print(\"The training MSE is %2f, the testing MSE is %2f\" %(train_MSE2, test_MSE2))\n",
    "\n",
    "print(mean_squared_error(y_train, regr3.predict(x_train3)))\n",
    "print(mean_squared_error(y_test, regr3.predict(x_test3)))"
   ]
  },
  {
   "cell_type": "markdown",
   "metadata": {},
   "source": [
    "We observe that both the training MSE and testing MSE are lower than the corresponding training and testing MSEs when we had one predictor.  So it seems that we'd prefer our model with two predictors than one predictor.  \n",
    "\n",
    "But we observe that with the two predictor model the training MSE is larger than the testing MSE.  It is possible for the training MSE to be higher than the testing MSE.  This will be discussed more in lecture.  One possibility is that the test set was too small, so that the model by chance fit it better than the training set.  Can you think of other reasons?"
   ]
  },
  {
   "cell_type": "markdown",
   "metadata": {},
   "source": [
    "### Part 4:  $k$-nearest neighbors"
   ]
  },
  {
   "cell_type": "markdown",
   "metadata": {},
   "source": [
    "Great, so we did a simple linear regression on the car data.\n",
    "\n",
    "Because we're good data scientists, we decide that a $k$ nearest-neighbor regression should also be performed.\n",
    "\n",
    "Now that you're familiar with the `sklearn` API, you're ready to do a KNN regression.  We can go a little quicker here.  Let's use $5$ nearest neighbors."
   ]
  },
  {
   "cell_type": "code",
   "execution_count": null,
   "metadata": {},
   "outputs": [],
   "source": [
    "from sklearn.neighbors import KNeighborsRegressor\n",
    "knnreg = KNeighborsRegressor(n_neighbors=5)\n",
    "knnreg.fit(x_train, y_train)\n",
    "r2 = knnreg.score(x_test, y_test)\n",
    "r2"
   ]
  },
  {
   "cell_type": "markdown",
   "metadata": {},
   "source": [
    "*The $R^2$ error*\n",
    "\n",
    "This is a good moment to define the $R^2$ score. This score is the proportion of the variance in the dependent variable that is predictable from the independent variable. Intuitively, it gives a measurement of how far the measured values $y_i$ are from the predicted values $f(x_i)$. \n",
    "\n",
    "If $\\bar{y}$ is the mean of the $n$ observed values:\n",
    "\n",
    "$$\n",
    "\\bar{y} = \\frac{1}{n}\\sum_{i=1}^{n} y_i\n",
    "$$\n",
    "\n",
    "then the variability of the data is given by the three sum of squares formulas:\n",
    "\n",
    "\n",
    "* The total sum of squares:\n",
    "$$\n",
    "SS_{\\rm{tot}} = \\sum_i(y_i - \\bar{y})^2\n",
    "$$\n",
    "\n",
    "* The regression sum of squares:\n",
    "$$\n",
    "SS_{\\rm{reg}} = \\sum_i(f_i - \\bar{y})^2\n",
    "$$\n",
    "\n",
    "* The residual sum of squares:\n",
    "$$\n",
    "SS_{\\rm{res}} = \\sum_i(y_i - f_i)^2\n",
    "$$\n",
    "\n",
    "The $R^2$ score is generally defined as:\n",
    "\n",
    "$$\n",
    "R^2 \\equiv 1 - \\frac{\\color{blue}{SS_{\\rm{res}}}}{\\color{red}{SS_{\\rm{tot}}}}\n",
    "$$\n",
    "\n",
    "This is better understood if we look at a figure (credit Wikipedia). The better the linear regression (on the right) fits the data in comparison to the simple average (on the left graph), the closer the value of $R^2$ is to 1:\n",
    "\n",
    "![](rsquared.png)\n",
    "\n",
    "\n",
    "*Distance functions*\n",
    "\n",
    "The knn algorithm predicts the output value of an unseen point $x_0$ by averaging the output values of the $k$ nearest points in the training set. In order to measure a \"distance\", a proper metric should be decided on. Some popular distance functions are:\n",
    "\n",
    "* The euclidean distance\n",
    "\n",
    "$$\n",
    "D = \\sqrt{ \\sum_{i=1}^k(x_i-y_i)^2}\n",
    "$$\n",
    "\n",
    "\n",
    "* The Manhattan distance\n",
    "\n",
    "$$\n",
    "D = \\sum_{i=1}^k|x_i-y_i|\n",
    "$$\n",
    "\n",
    "* The Minkowski distance\n",
    "\n",
    "$$\n",
    "D = \\left( \\sum_{i=1}^k(|x_i-y_i|)^q \\right)^{1/q}\n",
    "$$\n",
    "\n",
    "In sklearn you can choose to use between these distances by changing the `p` parameter of the `KNeighborsRegressor` function.\n",
    "\n",
    "You can also decide to give different weights to the different $k$ neighbors considered in a given prediction, which might be desirable in certain cases. Using the `weights` parameter in `KNeighborsRegressor` you can choose between different weighting strategies. For example, you might want to give more weight to those points that are closest to your prediction points. The parameter can take values `uniform` or `distance`."
   ]
  },
  {
   "cell_type": "markdown",
   "metadata": {},
   "source": [
    "<div class=\"exercise\"><b>Exercise</b></div>\n",
    "What is the $R^{2}$ score on the training set?"
   ]
  },
  {
   "cell_type": "code",
   "execution_count": null,
   "metadata": {},
   "outputs": [],
   "source": [
    "knnreg.fit(x_train, y_train)\n",
    "r2 = knnreg.score(x_train, y_train)\n",
    "r2"
   ]
  },
  {
   "cell_type": "markdown",
   "metadata": {},
   "source": [
    "Lets vary the number of neighbors and see what we get."
   ]
  },
  {
   "cell_type": "code",
   "execution_count": null,
   "metadata": {},
   "outputs": [],
   "source": [
    "regdict = {}\n",
    "# Do a bunch of KNN regressions\n",
    "for k in [1, 2, 4, 6, 8, 10, 15]:\n",
    "    knnreg = KNeighborsRegressor(n_neighbors=k)\n",
    "    knnreg.fit(x_train, y_train)\n",
    "    print(knnreg.score(x_train, y_train)) # print the R2 score in each case.\n",
    "    regdict[k] = knnreg # Store the regressors in a dictionary"
   ]
  },
  {
   "cell_type": "code",
   "execution_count": null,
   "metadata": {},
   "outputs": [],
   "source": [
    "# Now let's plot it all\n",
    "fig, ax = plt.subplots(1,1, figsize=(10,6))\n",
    "\n",
    "ax.plot(dfcars.wt, dfcars.mpg, 'o', label=\"data\")\n",
    "\n",
    "xgrid = np.linspace(np.min(dfcars.wt), np.max(dfcars.wt), 100)\n",
    "for k in [1, 2, 6, 10, 15]:\n",
    "    predictions = regdict[k].predict(xgrid.reshape(100,1))\n",
    "    if k in [1, 6, 15]:\n",
    "        ax.plot(xgrid, predictions, label=\"{}-NN\".format(k))\n",
    "    \n",
    "\n",
    "ax.legend();"
   ]
  },
  {
   "cell_type": "markdown",
   "metadata": {},
   "source": [
    "What happens if we change the distance fucntion?"
   ]
  },
  {
   "cell_type": "code",
   "execution_count": null,
   "metadata": {},
   "outputs": [],
   "source": [
    "regdict = {}\n",
    "# Do a bunch of KNN regressions\n",
    "for k in [1, 2, 4, 6, 8, 10, 15]:\n",
    "    knnreg = KNeighborsRegressor(n_neighbors=k,p=3)\n",
    "    knnreg.fit(x_train, y_train)\n",
    "    print(knnreg.score(x_train, y_train)) # print the R2 score in each case.\n",
    "    regdict[k] = knnreg # Store the regressors in a dictionary"
   ]
  },
  {
   "cell_type": "code",
   "execution_count": null,
   "metadata": {},
   "outputs": [],
   "source": [
    "# Now let's plot it all\n",
    "fig, ax = plt.subplots(1,1, figsize=(10,6))\n",
    "\n",
    "ax.plot(dfcars.wt, dfcars.mpg, 'o', label=\"data\")\n",
    "\n",
    "xgrid = np.linspace(np.min(dfcars.wt), np.max(dfcars.wt), 100)\n",
    "for k in [1, 2, 6, 10, 15]:\n",
    "    predictions = regdict[k].predict(xgrid.reshape(100,1))\n",
    "    if k in [1, 6, 15]:\n",
    "        ax.plot(xgrid, predictions, label=\"{}-NN\".format(k))\n",
    "    \n",
    "\n",
    "ax.legend();"
   ]
  },
  {
   "cell_type": "markdown",
   "metadata": {},
   "source": [
    "Let us now try a weighted knn regression, where the neighbors are weighted according to their distance, with the closest training points to the prediction points having more weight:"
   ]
  },
  {
   "cell_type": "code",
   "execution_count": null,
   "metadata": {},
   "outputs": [],
   "source": [
    "regdict = {}\n",
    "# Do a bunch of KNN regressions\n",
    "for k in [1, 2, 4, 6, 8, 10, 15]:\n",
    "    knnreg = KNeighborsRegressor(n_neighbors=k, weights='distance')\n",
    "    knnreg.fit(x_train, y_train)\n",
    "    print(knnreg.score(x_train, y_train)) # print the R2 score in each case.\n",
    "    regdict[k] = knnreg # Store the regressors in a dictionary"
   ]
  },
  {
   "cell_type": "code",
   "execution_count": null,
   "metadata": {},
   "outputs": [],
   "source": [
    "# Now let's plot it all\n",
    "fig, ax = plt.subplots(1,1, figsize=(10,6))\n",
    "\n",
    "ax.plot(dfcars.wt, dfcars.mpg, 'o', label=\"data\")\n",
    "\n",
    "xgrid = np.linspace(np.min(dfcars.wt), np.max(dfcars.wt), 100)\n",
    "for k in [1, 2, 6, 10, 15]:\n",
    "    predictions = regdict[k].predict(xgrid.reshape(100,1))\n",
    "    if k in [1, 6, 15]:\n",
    "        ax.plot(xgrid, predictions, label=\"{}-NN\".format(k))\n",
    "    \n",
    "\n",
    "ax.legend();"
   ]
  },
  {
   "cell_type": "markdown",
   "metadata": {},
   "source": [
    "Not that in the case of sparse data, the distance weighting schme tends to behave like the $k=1$ case, since the prediction depends strongly on the nearest training point in each case."
   ]
  },
  {
   "cell_type": "markdown",
   "metadata": {},
   "source": [
    "> **EXERCISE:** Now do knn regression for the case of two or more predictors. For each case, calculate the R2 score. Use different values of $k$, just like above. Try different distance and weigthing strategies. Ellaborate about your findings."
   ]
  },
  {
   "cell_type": "code",
   "execution_count": null,
   "metadata": {},
   "outputs": [],
   "source": [
    "regdict = {}\n",
    "# Do a bunch of KNN regressions\n",
    "for k in [1, 2, 4, 6, 8, 10, 15]:\n",
    "    knnreg = KNeighborsRegressor(n_neighbors=k)\n",
    "    knnreg.fit(x_train2, y_train)\n",
    "    print(knnreg.score(x_train2, y_train)) # print the R2 score in each case.\n",
    "    regdict[k] = knnreg # Store the regressors in a dictionary"
   ]
  },
  {
   "cell_type": "markdown",
   "metadata": {},
   "source": [
    "### Bootstrap"
   ]
  },
  {
   "cell_type": "markdown",
   "metadata": {},
   "source": [
    "We have discussed in the lecture the concept of bootstrapping, which consists on estimating the parameters of a population by using a single sample of that population, by taking bootstrap samplings from it (sampling with replacement) Here we demonstrate it with an example.\n",
    "\n",
    "Let us first generate a synthetic dataset."
   ]
  },
  {
   "cell_type": "code",
   "execution_count": null,
   "metadata": {},
   "outputs": [],
   "source": [
    "import numpy as np\n",
    "import matplotlib.pyplot as plt\n",
    "plt.style.use('seaborn-darkgrid')\n",
    "\n",
    "# Initialize random number generator\n",
    "np.random.seed(123)\n",
    "\n",
    "# True parameter values\n",
    "alpha, sigma = 1, 1\n",
    "beta = [1, 2.5]\n",
    "\n",
    "# Size of dataset\n",
    "size = 100\n",
    "\n",
    "# Predictor variable\n",
    "X1 = np.random.randn(size)\n",
    "X2 = np.random.randn(size) * 0.2\n",
    "\n",
    "# Simulate outcome variable\n",
    "Y = alpha + beta[0]*X1 + beta[1]*X2 + np.random.randn(size)*sigma"
   ]
  },
  {
   "cell_type": "code",
   "execution_count": null,
   "metadata": {},
   "outputs": [],
   "source": [
    "fig, axes = plt.subplots(1, 2, sharex=True, figsize=(10,4))\n",
    "axes[0].scatter(X1, Y)\n",
    "axes[1].scatter(X2, Y)\n",
    "axes[0].set_ylabel('Y'); axes[0].set_xlabel('X1'); axes[1].set_xlabel('X2');"
   ]
  },
  {
   "cell_type": "markdown",
   "metadata": {},
   "source": [
    "Assuming that we have certain errors associated with our measurements of $Y$, we will find a distribution of possible values for the parameters $\\beta$ and $\\alpha$. We are not doing Bayesian regression yet, so let us assume that the distribution of slolutions looks like this:"
   ]
  },
  {
   "cell_type": "code",
   "execution_count": null,
   "metadata": {},
   "outputs": [],
   "source": [
    "slopes = np.random.normal(loc=1.0,scale=0.3,size=300)\n",
    "intercepts = np.random.normal(loc=1,scale=0.3,size=300)"
   ]
  },
  {
   "cell_type": "markdown",
   "metadata": {},
   "source": [
    "And now let's plot the solution models with the data:"
   ]
  },
  {
   "cell_type": "code",
   "execution_count": null,
   "metadata": {},
   "outputs": [],
   "source": [
    "plt.scatter(X1, Y)\n",
    "x0 = np.linspace(-3.0,2.5,100)\n",
    "for i in range(len(slopes)):\n",
    "    plt.plot(x0,x0*slopes[i]+intercepts[i],color='b',alpha=0.1)\n",
    "plt.ylabel('Y'); plt.xlabel('X1')"
   ]
  },
  {
   "cell_type": "markdown",
   "metadata": {},
   "source": [
    "As well as the distribution of, say, the slope parameter:"
   ]
  },
  {
   "cell_type": "code",
   "execution_count": null,
   "metadata": {},
   "outputs": [],
   "source": [
    "plt.hist(slopes)\n",
    "plt.xlabel('Slope')"
   ]
  },
  {
   "cell_type": "markdown",
   "metadata": {},
   "source": [
    "Suppose you want to estimate the error on the slope. In principle you would like to have the entire population of solutions, but you only have a set of 300 samples from that underlying population, that we have modeled to be normally distributed. With bootrstrap we an estimate the errors using this only sample we have."
   ]
  },
  {
   "cell_type": "code",
   "execution_count": null,
   "metadata": {},
   "outputs": [],
   "source": [
    "# Bootstrapping\n",
    "M_samples=10000  # The number of bootstrap samples we want\n",
    "N_points = 100  # The number of points we want to samples from the dist.\n",
    "\n",
    "# Let's sample with replacement.\n",
    "bs_np = np.random.choice(slopes, size=(M_samples, N_points), replace=True)\n",
    "\n",
    "# Calculate the mean\n",
    "sd_mean=np.mean(bs_np, axis=1)\n",
    "\n",
    "# And the standard deviation\n",
    "sd_std=np.std(bs_np, axis=1)\n",
    "\n",
    "# Plot results\n",
    "plt.hist(sd_mean, bins=30, normed=True, alpha=0.5,label=\"samples\");\n",
    "plt.axvline(slopes.mean(), 0, 1, color='r', label='Our Sample')\n",
    "plt.legend()"
   ]
  },
  {
   "cell_type": "markdown",
   "metadata": {},
   "source": [
    "<div class=\"exercise\"><b>Exercise</b></div>\n",
    "We have estimated the uncertainty for the mean of the slopes distribution. Can you do it also for the standard deviation? Can you perform a similar analysis for the interept of the fit?"
   ]
  },
  {
   "cell_type": "code",
   "execution_count": null,
   "metadata": {},
   "outputs": [],
   "source": []
  },
  {
   "cell_type": "code",
   "execution_count": null,
   "metadata": {},
   "outputs": [],
   "source": []
  },
  {
   "cell_type": "code",
   "execution_count": null,
   "metadata": {},
   "outputs": [],
   "source": []
  }
 ],
 "metadata": {
  "kernelspec": {
   "display_name": "Python 3",
   "language": "python",
   "name": "python3"
  },
  "language_info": {
   "codemirror_mode": {
    "name": "ipython",
    "version": 3
   },
   "file_extension": ".py",
   "mimetype": "text/x-python",
   "name": "python",
   "nbconvert_exporter": "python",
   "pygments_lexer": "ipython3",
   "version": "3.6.6"
  }
 },
 "nbformat": 4,
 "nbformat_minor": 2
}
